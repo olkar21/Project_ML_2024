{
  "nbformat": 4,
  "nbformat_minor": 0,
  "metadata": {
    "colab": {
      "provenance": []
    },
    "kernelspec": {
      "name": "python3",
      "display_name": "Python 3"
    },
    "language_info": {
      "name": "python"
    }
  },
  "cells": [
    {
      "cell_type": "markdown",
      "source": [
        "1. Извлечение аудиодорожки из видео"
      ],
      "metadata": {
        "id": "Bfelch9GJGJf"
      }
    },
    {
      "cell_type": "code",
      "source": [
        "!pip install moviepy\n",
        "!pip install ffmpeg\n",
        "from moviepy.editor import *"
      ],
      "metadata": {
        "colab": {
          "base_uri": "https://localhost:8080/"
        },
        "id": "dnlbTTXmJJ5H",
        "outputId": "caf76dad-9c44-434c-b68d-69dc7e491bbe"
      },
      "execution_count": null,
      "outputs": [
        {
          "output_type": "stream",
          "name": "stdout",
          "text": [
            "Requirement already satisfied: moviepy in /usr/local/lib/python3.11/dist-packages (1.0.3)\n",
            "Requirement already satisfied: decorator<5.0,>=4.0.2 in /usr/local/lib/python3.11/dist-packages (from moviepy) (4.4.2)\n",
            "Requirement already satisfied: imageio<3.0,>=2.5 in /usr/local/lib/python3.11/dist-packages (from moviepy) (2.37.0)\n",
            "Requirement already satisfied: imageio_ffmpeg>=0.2.0 in /usr/local/lib/python3.11/dist-packages (from moviepy) (0.6.0)\n",
            "Requirement already satisfied: tqdm<5.0,>=4.11.2 in /usr/local/lib/python3.11/dist-packages (from moviepy) (4.67.1)\n",
            "Requirement already satisfied: numpy>=1.17.3 in /usr/local/lib/python3.11/dist-packages (from moviepy) (2.0.2)\n",
            "Requirement already satisfied: requests<3.0,>=2.8.1 in /usr/local/lib/python3.11/dist-packages (from moviepy) (2.32.3)\n",
            "Requirement already satisfied: proglog<=1.0.0 in /usr/local/lib/python3.11/dist-packages (from moviepy) (0.1.10)\n",
            "Requirement already satisfied: pillow>=8.3.2 in /usr/local/lib/python3.11/dist-packages (from imageio<3.0,>=2.5->moviepy) (11.1.0)\n",
            "Requirement already satisfied: charset-normalizer<4,>=2 in /usr/local/lib/python3.11/dist-packages (from requests<3.0,>=2.8.1->moviepy) (3.4.1)\n",
            "Requirement already satisfied: idna<4,>=2.5 in /usr/local/lib/python3.11/dist-packages (from requests<3.0,>=2.8.1->moviepy) (3.10)\n",
            "Requirement already satisfied: urllib3<3,>=1.21.1 in /usr/local/lib/python3.11/dist-packages (from requests<3.0,>=2.8.1->moviepy) (2.3.0)\n",
            "Requirement already satisfied: certifi>=2017.4.17 in /usr/local/lib/python3.11/dist-packages (from requests<3.0,>=2.8.1->moviepy) (2025.1.31)\n",
            "Collecting ffmpeg\n",
            "  Downloading ffmpeg-1.4.tar.gz (5.1 kB)\n",
            "  Preparing metadata (setup.py) ... \u001b[?25l\u001b[?25hdone\n",
            "Building wheels for collected packages: ffmpeg\n",
            "  Building wheel for ffmpeg (setup.py) ... \u001b[?25l\u001b[?25hdone\n",
            "  Created wheel for ffmpeg: filename=ffmpeg-1.4-py3-none-any.whl size=6082 sha256=9b1ac75cdfa3e9b0ef9b0928d1a765200c53765bbe895192d78ed67d2ebfe060\n",
            "  Stored in directory: /root/.cache/pip/wheels/56/30/c5/576bdd729f3bc062d62a551be7fefd6ed2f761901568171e4e\n",
            "Successfully built ffmpeg\n",
            "Installing collected packages: ffmpeg\n",
            "Successfully installed ffmpeg-1.4\n"
          ]
        },
        {
          "output_type": "stream",
          "name": "stderr",
          "text": [
            "WARNING:py.warnings:/usr/local/lib/python3.11/dist-packages/moviepy/video/io/sliders.py:61: SyntaxWarning: \"is\" with a literal. Did you mean \"==\"?\n",
            "  if event.key is 'enter':\n",
            "\n"
          ]
        }
      ]
    },
    {
      "cell_type": "code",
      "source": [
        "video = VideoFileClip(\"video.mp4\")"
      ],
      "metadata": {
        "id": "ngme4T5bJlLu"
      },
      "execution_count": null,
      "outputs": []
    },
    {
      "cell_type": "code",
      "source": [
        "video.audio.write_audiofile(\"audio.wav\")"
      ],
      "metadata": {
        "id": "1auoI_yXKEQl"
      },
      "execution_count": null,
      "outputs": []
    },
    {
      "cell_type": "markdown",
      "source": [
        "2. Преобразование речи в текст"
      ],
      "metadata": {
        "id": "7nHcVy7eR5ES"
      }
    },
    {
      "cell_type": "code",
      "source": [
        "!pip install SpeechRecognition pydub\n",
        "\n",
        "import speech_recognition as sr\n",
        "import os\n",
        "from pydub import AudioSegment\n",
        "from pydub.silence import split_on_silence"
      ],
      "metadata": {
        "colab": {
          "base_uri": "https://localhost:8080/"
        },
        "id": "-El7PG3WYrvt",
        "outputId": "ee2a6c82-888e-40bb-f0c6-44b78d3fbe36"
      },
      "execution_count": null,
      "outputs": [
        {
          "output_type": "stream",
          "name": "stdout",
          "text": [
            "Collecting SpeechRecognition\n",
            "  Downloading speechrecognition-3.14.2-py3-none-any.whl.metadata (30 kB)\n",
            "Collecting pydub\n",
            "  Downloading pydub-0.25.1-py2.py3-none-any.whl.metadata (1.4 kB)\n",
            "Requirement already satisfied: typing-extensions in /usr/local/lib/python3.11/dist-packages (from SpeechRecognition) (4.12.2)\n",
            "Downloading speechrecognition-3.14.2-py3-none-any.whl (32.9 MB)\n",
            "\u001b[2K   \u001b[90m━━━━━━━━━━━━━━━━━━━━━━━━━━━━━━━━━━━━━━━━\u001b[0m \u001b[32m32.9/32.9 MB\u001b[0m \u001b[31m40.9 MB/s\u001b[0m eta \u001b[36m0:00:00\u001b[0m\n",
            "\u001b[?25hDownloading pydub-0.25.1-py2.py3-none-any.whl (32 kB)\n",
            "Installing collected packages: pydub, SpeechRecognition\n",
            "Successfully installed SpeechRecognition-3.14.2 pydub-0.25.1\n"
          ]
        }
      ]
    },
    {
      "cell_type": "code",
      "source": [
        "sound = AudioSegment.from_wav(\"audio.wav\")\n",
        "sound.export(\"audio.wav\", format=\"wav\")"
      ],
      "metadata": {
        "id": "utfqsstwcak6"
      },
      "execution_count": null,
      "outputs": []
    },
    {
      "cell_type": "code",
      "source": [
        "# инициализация распознавателя\n",
        "r = sr.Recognizer()"
      ],
      "metadata": {
        "id": "zxvny9VHatDa"
      },
      "execution_count": null,
      "outputs": []
    },
    {
      "cell_type": "code",
      "source": [
        "import re"
      ],
      "metadata": {
        "id": "O2xasqyu8HNo"
      },
      "execution_count": null,
      "outputs": []
    },
    {
      "cell_type": "code",
      "source": [
        "# функция для распознавания речи в аудиофайле\n",
        "def transcribe_audio(path):\n",
        "    # используем аудиофайл как источник аудио\n",
        "    with sr.AudioFile(path) as source:\n",
        "        audio_listened = r.record(source)\n",
        "        # преобразуем его в текст\n",
        "        text = r.recognize_google(audio_listened, language=\"es-ES\")\n",
        "    return text"
      ],
      "metadata": {
        "id": "NvjnOAuJfw7U"
      },
      "execution_count": null,
      "outputs": []
    },
    {
      "cell_type": "code",
      "source": [
        "# функция для деления аудиозаписи на отрывки по паузам\n",
        "# + запуск распознавания\n",
        "def get_large_audio_transcription_on_silence(path):\n",
        "    \"\"\"Делим большой аудиофайл на отрывки и применяем распознавание речи\n",
        "    на каждом из отрывков (у Гугл в бесплатной версии есть ограничение по величине аудио)\"\"\"\n",
        "    # открываем аудио с помощью pydub\n",
        "    sound = AudioSegment.from_file(path)\n",
        "    # делим звук на отрывки там, где пауза больше 500 милисекунд\n",
        "    chunks = split_on_silence(sound,\n",
        "        # настраиваемый параметр\n",
        "        min_silence_len = 500,\n",
        "        # настраиваемый параметр\n",
        "        silence_thresh = sound.dBFS-12,\n",
        "        # добавляем паузу по 1 сек. с начала и с конца, настраиваемый параметр\n",
        "        keep_silence=1000,\n",
        "    )\n",
        "    folder_name = \"audio-chunks\"\n",
        "    # создаем папку для хранения отрывков аудио\n",
        "    if not os.path.isdir(folder_name):\n",
        "        os.mkdir(folder_name)\n",
        "    whole_text = \"\"\n",
        "    # обрабатываем каждый отрывок\n",
        "    for i, audio_chunk in enumerate(chunks, start=1):\n",
        "        # экспортируем каждый отрывок и сохраняем его в созданной папке\n",
        "        chunk_filename = os.path.join(folder_name, f\"chunk{i}.wav\")\n",
        "        audio_chunk.export(chunk_filename, format=\"wav\")\n",
        "        # распознаем отрывок\n",
        "        try:\n",
        "            text = transcribe_audio(chunk_filename)\n",
        "        except sr.UnknownValueError as e:\n",
        "            print(\".\", str(e))\n",
        "        else:\n",
        "            text = f\"{text.capitalize()}.\\n\"\n",
        "            print(text)\n",
        "            whole_text += text\n",
        "    # возвращаем текст для всех распознанных отрывков\n",
        "    return whole_text"
      ],
      "metadata": {
        "id": "8MpIcYBjf1li"
      },
      "execution_count": null,
      "outputs": []
    },
    {
      "cell_type": "code",
      "source": [
        "path = \"audio.wav\"\n"
      ],
      "metadata": {
        "id": "zshfBNyRgzl2"
      },
      "execution_count": null,
      "outputs": []
    },
    {
      "cell_type": "code",
      "source": [
        "with open(\"text.txt\", \"w\") as file:\n",
        "  file.write(get_large_audio_transcription_on_silence(path))"
      ],
      "metadata": {
        "id": "XPsvS2b4bGop"
      },
      "execution_count": null,
      "outputs": []
    },
    {
      "cell_type": "markdown",
      "source": [
        "3. Расставление знаков препинания."
      ],
      "metadata": {
        "id": "y9DjA2pZR2u0"
      }
    },
    {
      "cell_type": "code",
      "source": [
        "import os\n",
        "import yaml\n",
        "import torch\n",
        "from torch import package\n",
        "# инициализация модели\n",
        "torch.hub.download_url_to_file('https://raw.githubusercontent.com/snakers4/silero-models/master/models.yml',\n",
        "                               'latest_silero_models.yml',\n",
        "                               progress=False)\n",
        "\n",
        "with open('latest_silero_models.yml', 'r') as yaml_file:\n",
        "    models = yaml.load(yaml_file, Loader=yaml.SafeLoader)\n",
        "model_conf = models.get('te_models').get('latest')"
      ],
      "metadata": {
        "id": "Ym6OiPN3KSwv"
      },
      "execution_count": null,
      "outputs": []
    },
    {
      "cell_type": "code",
      "source": [
        "model_url = model_conf.get('package')\n",
        "\n",
        "model_dir = \"downloaded_model\"\n",
        "os.makedirs(model_dir, exist_ok=True)\n",
        "model_path = os.path.join(model_dir, os.path.basename(model_url))\n",
        "\n",
        "if not os.path.isfile(model_path):\n",
        "    torch.hub.download_url_to_file(model_url,\n",
        "                                   model_path,\n",
        "                                   progress=True)\n",
        "\n",
        "imp = package.PackageImporter(model_path)\n",
        "model = imp.load_pickle(\"te_model\", \"model\")\n",
        "\n",
        "def apply_te(text, lan='es'):\n",
        "    return model.enhance_text(text, lan)"
      ],
      "metadata": {
        "id": "PKBo-I8iKoJk"
      },
      "execution_count": null,
      "outputs": []
    },
    {
      "cell_type": "code",
      "source": [
        "with open('text.txt', 'r') as f:\n",
        "  input_text = f.read()\n",
        "\n",
        "with open(\"text_punkt.txt\", \"w\") as output_text:\n",
        "    output_text.write(apply_te(input_text, lan='es'))\n"
      ],
      "metadata": {
        "id": "0t-gbVBLTbGV"
      },
      "execution_count": null,
      "outputs": []
    }
  ]
}